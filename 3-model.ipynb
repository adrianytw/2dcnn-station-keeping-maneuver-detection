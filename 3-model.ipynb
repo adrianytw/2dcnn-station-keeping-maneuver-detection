{
 "cells": [
  {
   "cell_type": "code",
   "execution_count": 1,
   "metadata": {},
   "outputs": [],
   "source": [
    "import pandas as pd\n",
    "import numpy as np\n",
    "from sklearn.model_selection import train_test_split\n"
   ]
  },
  {
   "cell_type": "code",
   "execution_count": 2,
   "metadata": {},
   "outputs": [],
   "source": [
    "# file = \"sat-data.h5\"\n",
    "# sat_data = pd.read_hdf(file)\n",
    "filex = \"sat-data.npy\"\n",
    "filey = \"sat-labels.npy\"\n",
    "\n",
    "sat_data = np.load( filex )\n",
    "sat_labels = np.load( filey, allow_pickle=True )"
   ]
  },
  {
   "cell_type": "code",
   "execution_count": 3,
   "metadata": {},
   "outputs": [],
   "source": [
    "## Split the data into training and testing sets\n",
    "X_train, X_test, y_train, y_test = train_test_split(sat_data, sat_labels, test_size=0.2, random_state=42)"
   ]
  },
  {
   "cell_type": "code",
   "execution_count": 4,
   "metadata": {},
   "outputs": [
    {
     "name": "stdout",
     "output_type": "stream",
     "text": [
      "Model: \"sequential\"\n",
      "_________________________________________________________________\n",
      " Layer (type)                Output Shape              Param #   \n",
      "=================================================================\n",
      " conv1d (Conv1D)             (127, 4, 128)             1664      \n",
      "                                                                 \n",
      " conv1d_1 (Conv1D)           (127, 3, 128)             32896     \n",
      "                                                                 \n",
      " max_pooling1d (MaxPooling1  (127, 1, 128)             0         \n",
      " D)                                                              \n",
      "                                                                 \n",
      " flatten (Flatten)           (127, 128)                0         \n",
      "                                                                 \n",
      " dense (Dense)               (127, 192)                24768     \n",
      "                                                                 \n",
      " dense_1 (Dense)             (127, 89)                 17177     \n",
      "                                                                 \n",
      " dense_2 (Dense)             (127, 3)                  270       \n",
      "                                                                 \n",
      "=================================================================\n",
      "Total params: 76775 (299.90 KB)\n",
      "Trainable params: 76775 (299.90 KB)\n",
      "Non-trainable params: 0 (0.00 Byte)\n",
      "_________________________________________________________________\n"
     ]
    }
   ],
   "source": [
    "from tensorflow.keras.models import Sequential\n",
    "from tensorflow.keras.layers import Conv2D, MaxPooling2D, Flatten, Dense, Softmax, Conv1D, MaxPooling1D\n",
    "\n",
    "# Define the CNN model\n",
    "model = Sequential()\n",
    "\n",
    "# input_shape = (20, 6, 1)\n",
    "# First convolutional layer (assuming 1D data)\n",
    "model.add(Conv1D(filters=128, kernel_size=2, activation='relu'))\n",
    "\n",
    "# Second convolutional layer\n",
    "model.add(Conv1D(filters=128, kernel_size=2, activation='relu'))\n",
    "\n",
    "# Max pooling layer\n",
    "model.add(MaxPooling1D(pool_size=2))\n",
    "\n",
    "# Flatten the output\n",
    "model.add(Flatten())\n",
    "\n",
    "# Fully connected layers\n",
    "model.add(Dense(units=192, activation='relu'))\n",
    "model.add(Dense(units=89, activation='relu'))\n",
    "\n",
    "# Output layer with 3 units for maneuver classification (no maneuver, beginning of maneuver, during maneuver)\n",
    "model.add(Dense(units=3, activation='softmax'))\n",
    "\n",
    "# Output layer with 3 output units for classification, [1, 0, 0], [0, 1, 0], [0, 0, 1] sigmoid activation function\n",
    "\n",
    "# Compile the model (loss function and optimizer might be different in the paper)\n",
    "model.compile(loss='categorical_crossentropy', optimizer='adam', metrics=['accuracy'])\n",
    "\n",
    "# Implement 10-fold cross-validation (code not shown here, refer to Kera's documentation)\n",
    "model.build(input_shape=sat_data.shape)\n",
    "\n",
    "model.summary()\n",
    "# Train the model (refer to Keras documentation for training with validation sets)\n",
    "# model.fit(X_train, y_train, epochs=5)\n"
   ]
  },
  {
   "cell_type": "code",
   "execution_count": 5,
   "metadata": {},
   "outputs": [],
   "source": [
    "sat_data = sat_data.astype('float32')\n",
    "sat_labels = np.array([label[0] for label in sat_labels]).astype('int32')\n"
   ]
  },
  {
   "cell_type": "code",
   "execution_count": 6,
   "metadata": {},
   "outputs": [
    {
     "data": {
      "text/plain": [
       "array([1, 0, 0], dtype=int32)"
      ]
     },
     "execution_count": 6,
     "metadata": {},
     "output_type": "execute_result"
    }
   ],
   "source": [
    "sat_labels[0]"
   ]
  },
  {
   "cell_type": "code",
   "execution_count": 7,
   "metadata": {},
   "outputs": [
    {
     "name": "stdout",
     "output_type": "stream",
     "text": [
      "Epoch 1/10\n",
      "4/4 [==============================] - 0s 37ms/step - loss: 1.0238 - accuracy: 0.5446 - val_loss: 1.1959 - val_accuracy: 0.1154\n",
      "Epoch 2/10\n",
      "4/4 [==============================] - 0s 6ms/step - loss: 0.7980 - accuracy: 0.6733 - val_loss: 1.4277 - val_accuracy: 0.1154\n",
      "Epoch 3/10\n",
      "4/4 [==============================] - 0s 8ms/step - loss: 0.6391 - accuracy: 0.7129 - val_loss: 1.7837 - val_accuracy: 0.1538\n",
      "Epoch 4/10\n",
      "4/4 [==============================] - 0s 9ms/step - loss: 0.4883 - accuracy: 0.8020 - val_loss: 1.9048 - val_accuracy: 0.5385\n",
      "Epoch 5/10\n",
      "4/4 [==============================] - 0s 5ms/step - loss: 0.3511 - accuracy: 0.9208 - val_loss: 2.1457 - val_accuracy: 0.6538\n",
      "Epoch 6/10\n",
      "4/4 [==============================] - 0s 5ms/step - loss: 0.2447 - accuracy: 0.9703 - val_loss: 2.8288 - val_accuracy: 0.6538\n",
      "Epoch 7/10\n",
      "4/4 [==============================] - 0s 5ms/step - loss: 0.1525 - accuracy: 0.9703 - val_loss: 3.7791 - val_accuracy: 0.6538\n",
      "Epoch 8/10\n",
      "4/4 [==============================] - 0s 6ms/step - loss: 0.0959 - accuracy: 0.9802 - val_loss: 4.6391 - val_accuracy: 0.6538\n",
      "Epoch 9/10\n",
      "4/4 [==============================] - 0s 5ms/step - loss: 0.0632 - accuracy: 0.9802 - val_loss: 5.4299 - val_accuracy: 0.6538\n",
      "Epoch 10/10\n",
      "4/4 [==============================] - 0s 6ms/step - loss: 0.0388 - accuracy: 0.9901 - val_loss: 6.5524 - val_accuracy: 0.6538\n"
     ]
    },
    {
     "data": {
      "text/plain": [
       "<keras.src.callbacks.History at 0x307b19820>"
      ]
     },
     "execution_count": 7,
     "metadata": {},
     "output_type": "execute_result"
    }
   ],
   "source": [
    "\n",
    "model.fit(sat_data, sat_labels, epochs=10, batch_size=32, validation_split=0.2)"
   ]
  },
  {
   "cell_type": "code",
   "execution_count": 8,
   "metadata": {},
   "outputs": [
    {
     "name": "stdout",
     "output_type": "stream",
     "text": [
      "4/4 [==============================] - 0s 1ms/step - loss: 1.3601 - accuracy: 0.9291\n",
      "1/1 [==============================] - 0s 50ms/step\n"
     ]
    },
    {
     "data": {
      "text/plain": [
       "array([[9.9999845e-01, 1.0599462e-08, 1.5503838e-06]], dtype=float32)"
      ]
     },
     "execution_count": 8,
     "metadata": {},
     "output_type": "execute_result"
    }
   ],
   "source": [
    "# Evaluate the model\n",
    "# model.evaluate(X_test, y_test)\n",
    "model.evaluate(sat_data, sat_labels)\n",
    "\n",
    "# show trustworthiness of the model\n",
    "# model.predict(X_test)\n",
    "model.predict(sat_data[:1])\n",
    "# np.argmax(model.predict(sat_data[:1]), axis=1)\n"
   ]
  }
 ],
 "metadata": {
  "kernelspec": {
   "display_name": "base",
   "language": "python",
   "name": "python3"
  },
  "language_info": {
   "codemirror_mode": {
    "name": "ipython",
    "version": 3
   },
   "file_extension": ".py",
   "mimetype": "text/x-python",
   "name": "python",
   "nbconvert_exporter": "python",
   "pygments_lexer": "ipython3",
   "version": "3.9.13"
  }
 },
 "nbformat": 4,
 "nbformat_minor": 2
}
