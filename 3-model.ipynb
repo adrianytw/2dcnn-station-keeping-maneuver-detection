{
 "cells": [
  {
   "cell_type": "code",
   "execution_count": 5,
   "metadata": {},
   "outputs": [],
   "source": [
    "import pandas as pd\n",
    "from sklearn.model_selection import train_test_split\n"
   ]
  },
  {
   "cell_type": "code",
   "execution_count": 6,
   "metadata": {},
   "outputs": [],
   "source": [
    "file = \"sat-data.h5\"\n",
    "sat_data = pd.read_hdf(file)"
   ]
  },
  {
   "cell_type": "code",
   "execution_count": 9,
   "metadata": {},
   "outputs": [],
   "source": [
    "# X_train, X_test, y_train, y_test = train_test_split(sat_data, test_size=0.2, random_state=42)"
   ]
  },
  {
   "cell_type": "code",
   "execution_count": 10,
   "metadata": {},
   "outputs": [
    {
     "name": "stdout",
     "output_type": "stream",
     "text": [
      "Model: \"sequential_1\"\n",
      "_________________________________________________________________\n",
      " Layer (type)                Output Shape              Param #   \n",
      "=================================================================\n",
      " conv2d_2 (Conv2D)           (None, 17, 5, 128)        1152      \n",
      "                                                                 \n",
      " conv2d_3 (Conv2D)           (None, 14, 4, 128)        131200    \n",
      "                                                                 \n",
      " max_pooling2d_1 (MaxPoolin  (None, 7, 2, 128)         0         \n",
      " g2D)                                                            \n",
      "                                                                 \n",
      " flatten_1 (Flatten)         (None, 1792)              0         \n",
      "                                                                 \n",
      " dense_3 (Dense)             (None, 192)               344256    \n",
      "                                                                 \n",
      " dense_4 (Dense)             (None, 89)                17177     \n",
      "                                                                 \n",
      " dense_5 (Dense)             (None, 3)                 270       \n",
      "                                                                 \n",
      "=================================================================\n",
      "Total params: 494055 (1.88 MB)\n",
      "Trainable params: 494055 (1.88 MB)\n",
      "Non-trainable params: 0 (0.00 Byte)\n",
      "_________________________________________________________________\n"
     ]
    }
   ],
   "source": [
    "from tensorflow.keras.models import Sequential\n",
    "from tensorflow.keras.layers import Conv2D, MaxPooling2D, Flatten, Dense, Softmax, Conv1D\n",
    "\n",
    "# Define the CNN model\n",
    "model = Sequential()\n",
    "\n",
    "input_shape = (20, 6, 1)\n",
    "# First convolutional layer (assuming 1D data)\n",
    "model.add(Conv2D(filters=128, kernel_size=(4, 2), activation='relu', input_shape=input_shape))\n",
    "\n",
    "# Second convolutional layer\n",
    "model.add(Conv2D(filters=128, kernel_size=(4, 2), activation='relu'))\n",
    "\n",
    "# Max pooling layer\n",
    "model.add(MaxPooling2D(pool_size=(2, 2)))\n",
    "\n",
    "# Flatten the output\n",
    "model.add(Flatten())\n",
    "\n",
    "# Fully connected layers\n",
    "model.add(Dense(units=192, activation='relu'))\n",
    "model.add(Dense(units=89, activation='relu'))\n",
    "\n",
    "# Output layer with 3 units for maneuver classification (no maneuver, beginning of maneuver, during maneuver)\n",
    "model.add(Dense(units=3, activation='softmax'))\n",
    "\n",
    "# Compile the model (loss function and optimizer might be different in the paper)\n",
    "model.compile(loss='categorical_crossentropy', optimizer='adam', metrics=['accuracy'])\n",
    "\n",
    "# Implement 10-fold cross-validation (code not shown here, refer to Kera's documentation)\n",
    "\n",
    "model.summary()\n",
    "# Train the model (refer to Keras documentation for training with validation sets)\n",
    "# model.fit(X_train, y_train, epochs=5)\n"
   ]
  }
 ],
 "metadata": {
  "kernelspec": {
   "display_name": "base",
   "language": "python",
   "name": "python3"
  },
  "language_info": {
   "codemirror_mode": {
    "name": "ipython",
    "version": 3
   },
   "file_extension": ".py",
   "mimetype": "text/x-python",
   "name": "python",
   "nbconvert_exporter": "python",
   "pygments_lexer": "ipython3",
   "version": "3.9.13"
  }
 },
 "nbformat": 4,
 "nbformat_minor": 2
}
