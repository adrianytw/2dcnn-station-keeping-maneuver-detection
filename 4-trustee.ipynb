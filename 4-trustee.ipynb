{
 "cells": [
  {
   "cell_type": "code",
   "execution_count": 12,
   "metadata": {},
   "outputs": [],
   "source": [
    "import tensorflow as tf\n",
    "import numpy as np"
   ]
  },
  {
   "cell_type": "code",
   "execution_count": 53,
   "metadata": {},
   "outputs": [],
   "source": [
    "# Load the model\n",
    "class SequentialNN(tf.keras.models.Sequential):\n",
    "    def __init__(self, *args, **kwargs):\n",
    "        super().__init__(*args, **kwargs)\n",
    "\n",
    "    def predict(self, x):\n",
    "        pred_probs = super().predict(x)\n",
    "        rounded_probs = tf.math.round(pred_probs)\n",
    "        predictions = tf.cast(rounded_probs, tf.int32).numpy()\n",
    "        return predictions.flatten()\n",
    "    \n",
    "\n",
    "model = tf.keras.models.load_model('trustee_model.h5', custom_objects={'SequentialNN': SequentialNN})\n",
    "\n",
    "# load train and test data\n",
    "X_train = np.load('train_data.npy')\n",
    "y_train = np.load('train_labels.npy', allow_pickle=True)\n",
    "X_test = np.load('test_data.npy')\n",
    "y_test = np.load('test_labels.npy', allow_pickle=True)\n",
    "\n",
    "# X_train = X_train.astype('float32')\n",
    "# y_train = np.array([label[0] for label in y_train]).astype('int32')\n",
    "\n",
    "# X_test = X_test.astype('float32')\n",
    "# y_test = np.array([label[0] for label in y_test]).astype('int32')\n"
   ]
  },
  {
   "cell_type": "code",
   "execution_count": 54,
   "metadata": {},
   "outputs": [
    {
     "name": "stdout",
     "output_type": "stream",
     "text": [
      "1/1 - 0s - loss: 2.2926 - accuracy: 0.9231 - 73ms/epoch - 73ms/step\n"
     ]
    },
    {
     "data": {
      "text/plain": [
       "[2.2925775051116943, 0.9230769276618958]"
      ]
     },
     "execution_count": 54,
     "metadata": {},
     "output_type": "execute_result"
    }
   ],
   "source": [
    "# attacking the model\n",
    "\n",
    "X_test_final = np.load('test_data.npy')\n",
    "y_test_final = np.load('test_labels.npy', allow_pickle=True)\n",
    "\n",
    "\n",
    "model.evaluate(X_test_final, y_test_final, verbose=2)"
   ]
  },
  {
   "cell_type": "code",
   "execution_count": 55,
   "metadata": {},
   "outputs": [],
   "source": [
    "# change second column of X_test_final to 0\n",
    "X_test_final[:, 1] = 100"
   ]
  },
  {
   "cell_type": "code",
   "execution_count": 56,
   "metadata": {},
   "outputs": [
    {
     "name": "stdout",
     "output_type": "stream",
     "text": [
      "1/1 - 0s - loss: 470.6077 - accuracy: 0.5000 - 12ms/epoch - 12ms/step\n"
     ]
    },
    {
     "data": {
      "text/plain": [
       "[470.60772705078125, 0.5]"
      ]
     },
     "execution_count": 56,
     "metadata": {},
     "output_type": "execute_result"
    }
   ],
   "source": [
    "model.evaluate(X_test_final, y_test_final, verbose=2)"
   ]
  },
  {
   "cell_type": "code",
   "execution_count": 57,
   "metadata": {},
   "outputs": [
    {
     "data": {
      "text/plain": [
       "(101, 30)"
      ]
     },
     "execution_count": 57,
     "metadata": {},
     "output_type": "execute_result"
    }
   ],
   "source": [
    "newX = []\n",
    "for x in X_train:\n",
    "    x.flatten()\n",
    "    newX.append(x.flatten())\n",
    "\n",
    "newX = np.array(newX)\n",
    "newX.shape"
   ]
  },
  {
   "cell_type": "code",
   "execution_count": 59,
   "metadata": {},
   "outputs": [
    {
     "data": {
      "text/plain": [
       "(101,)"
      ]
     },
     "execution_count": 59,
     "metadata": {},
     "output_type": "execute_result"
    }
   ],
   "source": [
    "newY = []\n",
    "for y in y_train:\n",
    "    if y[0] == 1:\n",
    "        newY.append(0)\n",
    "    elif y[1] == 1:\n",
    "        newY.append(1)\n",
    "    elif y[2] == 1:\n",
    "        newY.append(2)\n",
    "    \n",
    "newY = np.array(newY)\n",
    "newY.shape"
   ]
  },
  {
   "cell_type": "code",
   "execution_count": 60,
   "metadata": {},
   "outputs": [
    {
     "name": "stdout",
     "output_type": "stream",
     "text": [
      "1/1 [==============================] - 0s 42ms/step\n",
      "Initializing training dataset using <__main__.SequentialNN object at 0x3170098e0> as expert model\n"
     ]
    },
    {
     "name": "stderr",
     "output_type": "stream",
     "text": [
      "2024-05-01 12:09:46.487450: W tensorflow/core/framework/op_kernel.cc:1839] OP_REQUIRES failed at conv_ops_fused_impl.h:761 : INVALID_ARGUMENT: convolution input must be 4-dimensional: [1,32,30]\n"
     ]
    },
    {
     "ename": "InvalidArgumentError",
     "evalue": "Graph execution error:\n\nDetected at node sequential_nn/conv1d/Conv1D defined at (most recent call last):\n  File \"/Users/nairda/anaconda3/lib/python3.9/runpy.py\", line 197, in _run_module_as_main\n\n  File \"/Users/nairda/anaconda3/lib/python3.9/runpy.py\", line 87, in _run_code\n\n  File \"/Users/nairda/anaconda3/lib/python3.9/site-packages/ipykernel_launcher.py\", line 17, in <module>\n\n  File \"/Users/nairda/anaconda3/lib/python3.9/site-packages/traitlets/config/application.py\", line 846, in launch_instance\n\n  File \"/Users/nairda/anaconda3/lib/python3.9/site-packages/ipykernel/kernelapp.py\", line 712, in start\n\n  File \"/Users/nairda/anaconda3/lib/python3.9/site-packages/tornado/platform/asyncio.py\", line 199, in start\n\n  File \"/Users/nairda/anaconda3/lib/python3.9/asyncio/base_events.py\", line 601, in run_forever\n\n  File \"/Users/nairda/anaconda3/lib/python3.9/asyncio/base_events.py\", line 1905, in _run_once\n\n  File \"/Users/nairda/anaconda3/lib/python3.9/asyncio/events.py\", line 80, in _run\n\n  File \"/Users/nairda/anaconda3/lib/python3.9/site-packages/ipykernel/kernelbase.py\", line 510, in dispatch_queue\n\n  File \"/Users/nairda/anaconda3/lib/python3.9/site-packages/ipykernel/kernelbase.py\", line 499, in process_one\n\n  File \"/Users/nairda/anaconda3/lib/python3.9/site-packages/ipykernel/kernelbase.py\", line 406, in dispatch_shell\n\n  File \"/Users/nairda/anaconda3/lib/python3.9/site-packages/ipykernel/kernelbase.py\", line 730, in execute_request\n\n  File \"/Users/nairda/anaconda3/lib/python3.9/site-packages/ipykernel/ipkernel.py\", line 383, in do_execute\n\n  File \"/Users/nairda/anaconda3/lib/python3.9/site-packages/ipykernel/zmqshell.py\", line 528, in run_cell\n\n  File \"/Users/nairda/anaconda3/lib/python3.9/site-packages/IPython/core/interactiveshell.py\", line 2881, in run_cell\n\n  File \"/Users/nairda/anaconda3/lib/python3.9/site-packages/IPython/core/interactiveshell.py\", line 2936, in _run_cell\n\n  File \"/Users/nairda/anaconda3/lib/python3.9/site-packages/IPython/core/async_helpers.py\", line 129, in _pseudo_sync_runner\n\n  File \"/Users/nairda/anaconda3/lib/python3.9/site-packages/IPython/core/interactiveshell.py\", line 3135, in run_cell_async\n\n  File \"/Users/nairda/anaconda3/lib/python3.9/site-packages/IPython/core/interactiveshell.py\", line 3338, in run_ast_nodes\n\n  File \"/Users/nairda/anaconda3/lib/python3.9/site-packages/IPython/core/interactiveshell.py\", line 3398, in run_code\n\n  File \"/var/folders/g1/nprc_87x7qz1y5bst3vfj9br0000gn/T/ipykernel_92519/692718086.py\", line 8, in <cell line: 8>\n\n  File \"/Users/nairda/anaconda3/lib/python3.9/site-packages/trustee/main.py\", line 209, in fit\n\n  File \"/var/folders/g1/nprc_87x7qz1y5bst3vfj9br0000gn/T/ipykernel_92519/1647615791.py\", line 7, in predict\n\n  File \"/Users/nairda/anaconda3/lib/python3.9/site-packages/keras/src/utils/traceback_utils.py\", line 65, in error_handler\n\n  File \"/Users/nairda/anaconda3/lib/python3.9/site-packages/keras/src/engine/training.py\", line 2655, in predict\n\n  File \"/Users/nairda/anaconda3/lib/python3.9/site-packages/keras/src/engine/training.py\", line 2440, in predict_function\n\n  File \"/Users/nairda/anaconda3/lib/python3.9/site-packages/keras/src/engine/training.py\", line 2425, in step_function\n\n  File \"/Users/nairda/anaconda3/lib/python3.9/site-packages/keras/src/engine/training.py\", line 2413, in run_step\n\n  File \"/Users/nairda/anaconda3/lib/python3.9/site-packages/keras/src/engine/training.py\", line 2381, in predict_step\n\n  File \"/Users/nairda/anaconda3/lib/python3.9/site-packages/keras/src/utils/traceback_utils.py\", line 65, in error_handler\n\n  File \"/Users/nairda/anaconda3/lib/python3.9/site-packages/keras/src/engine/training.py\", line 590, in __call__\n\n  File \"/Users/nairda/anaconda3/lib/python3.9/site-packages/keras/src/utils/traceback_utils.py\", line 65, in error_handler\n\n  File \"/Users/nairda/anaconda3/lib/python3.9/site-packages/keras/src/engine/base_layer.py\", line 1149, in __call__\n\n  File \"/Users/nairda/anaconda3/lib/python3.9/site-packages/keras/src/utils/traceback_utils.py\", line 96, in error_handler\n\n  File \"/Users/nairda/anaconda3/lib/python3.9/site-packages/keras/src/engine/sequential.py\", line 398, in call\n\n  File \"/Users/nairda/anaconda3/lib/python3.9/site-packages/keras/src/engine/functional.py\", line 515, in call\n\n  File \"/Users/nairda/anaconda3/lib/python3.9/site-packages/keras/src/engine/functional.py\", line 672, in _run_internal_graph\n\n  File \"/Users/nairda/anaconda3/lib/python3.9/site-packages/keras/src/utils/traceback_utils.py\", line 65, in error_handler\n\n  File \"/Users/nairda/anaconda3/lib/python3.9/site-packages/keras/src/engine/base_layer.py\", line 1149, in __call__\n\n  File \"/Users/nairda/anaconda3/lib/python3.9/site-packages/keras/src/utils/traceback_utils.py\", line 96, in error_handler\n\n  File \"/Users/nairda/anaconda3/lib/python3.9/site-packages/keras/src/layers/convolutional/base_conv.py\", line 290, in call\n\n  File \"/Users/nairda/anaconda3/lib/python3.9/site-packages/keras/src/layers/convolutional/base_conv.py\", line 262, in convolution_op\n\nconvolution input must be 4-dimensional: [1,32,30]\n\t [[{{node sequential_nn/conv1d/Conv1D}}]] [Op:__inference_predict_function_3695]",
     "output_type": "error",
     "traceback": [
      "\u001b[0;31m---------------------------------------------------------------------------\u001b[0m",
      "\u001b[0;31mInvalidArgumentError\u001b[0m                      Traceback (most recent call last)",
      "Input \u001b[0;32mIn [60]\u001b[0m, in \u001b[0;36m<cell line: 8>\u001b[0;34m()\u001b[0m\n\u001b[1;32m      5\u001b[0m y_pred \u001b[38;5;241m=\u001b[39m clf\u001b[38;5;241m.\u001b[39mpredict(X_test)\n\u001b[1;32m      7\u001b[0m trustee \u001b[38;5;241m=\u001b[39m ClassificationTrustee(expert\u001b[38;5;241m=\u001b[39mclf)\n\u001b[0;32m----> 8\u001b[0m \u001b[43mtrustee\u001b[49m\u001b[38;5;241;43m.\u001b[39;49m\u001b[43mfit\u001b[49m\u001b[43m(\u001b[49m\u001b[43mnewX\u001b[49m\u001b[43m,\u001b[49m\u001b[43m \u001b[49m\u001b[43mnewY\u001b[49m\u001b[43m,\u001b[49m\u001b[43m \u001b[49m\u001b[43mnum_iter\u001b[49m\u001b[38;5;241;43m=\u001b[39;49m\u001b[38;5;241;43m50\u001b[39;49m\u001b[43m,\u001b[49m\u001b[43m \u001b[49m\u001b[43mnum_stability_iter\u001b[49m\u001b[38;5;241;43m=\u001b[39;49m\u001b[38;5;241;43m10\u001b[39;49m\u001b[43m,\u001b[49m\u001b[43m \u001b[49m\u001b[43msamples_size\u001b[49m\u001b[38;5;241;43m=\u001b[39;49m\u001b[38;5;241;43m0.3\u001b[39;49m\u001b[43m,\u001b[49m\u001b[43m \u001b[49m\u001b[43mverbose\u001b[49m\u001b[38;5;241;43m=\u001b[39;49m\u001b[38;5;28;43;01mTrue\u001b[39;49;00m\u001b[43m)\u001b[49m\n\u001b[1;32m      9\u001b[0m dt, pruned_dt, agreement, reward \u001b[38;5;241m=\u001b[39m trustee\u001b[38;5;241m.\u001b[39mexplain()\n\u001b[1;32m     10\u001b[0m dt_y_pred \u001b[38;5;241m=\u001b[39m dt\u001b[38;5;241m.\u001b[39mpredict(X_test)\n",
      "File \u001b[0;32m~/anaconda3/lib/python3.9/site-packages/trustee/main.py:209\u001b[0m, in \u001b[0;36mTrustee.fit\u001b[0;34m(self, X, y, top_k, max_leaf_nodes, max_depth, ccp_alpha, train_size, num_iter, num_stability_iter, num_samples, samples_size, use_features, predict_method_name, optimization, aggregate, verbose)\u001b[0m\n\u001b[1;32m    206\u001b[0m \u001b[38;5;28mself\u001b[39m\u001b[38;5;241m.\u001b[39m_X_train, \u001b[38;5;28mself\u001b[39m\u001b[38;5;241m.\u001b[39m_X_test, \u001b[38;5;28mself\u001b[39m\u001b[38;5;241m.\u001b[39m_y_train, \u001b[38;5;28mself\u001b[39m\u001b[38;5;241m.\u001b[39m_y_test \u001b[38;5;241m=\u001b[39m train_test_split(X, y, train_size\u001b[38;5;241m=\u001b[39mtrain_size)\n\u001b[1;32m    208\u001b[0m features \u001b[38;5;241m=\u001b[39m \u001b[38;5;28mself\u001b[39m\u001b[38;5;241m.\u001b[39m_X_train\n\u001b[0;32m--> 209\u001b[0m targets \u001b[38;5;241m=\u001b[39m convert_to_series(\u001b[38;5;28;43mgetattr\u001b[39;49m\u001b[43m(\u001b[49m\u001b[38;5;28;43mself\u001b[39;49m\u001b[38;5;241;43m.\u001b[39;49m\u001b[43mexpert\u001b[49m\u001b[43m,\u001b[49m\u001b[43m \u001b[49m\u001b[43mpredict_method_name\u001b[49m\u001b[43m)\u001b[49m\u001b[43m(\u001b[49m\u001b[38;5;28;43mself\u001b[39;49m\u001b[38;5;241;43m.\u001b[39;49m\u001b[43m_X_train\u001b[49m\u001b[43m)\u001b[49m)\n\u001b[1;32m    211\u001b[0m \u001b[38;5;28;01mif\u001b[39;00m \u001b[38;5;28mhasattr\u001b[39m(targets, \u001b[38;5;124m\"\u001b[39m\u001b[38;5;124mshape\u001b[39m\u001b[38;5;124m\"\u001b[39m) \u001b[38;5;129;01mand\u001b[39;00m \u001b[38;5;28mlen\u001b[39m(targets\u001b[38;5;241m.\u001b[39mshape) \u001b[38;5;241m>\u001b[39m\u001b[38;5;241m=\u001b[39m \u001b[38;5;241m2\u001b[39m:\n\u001b[1;32m    212\u001b[0m     targets \u001b[38;5;241m=\u001b[39m targets\u001b[38;5;241m.\u001b[39mravel()\n",
      "Input \u001b[0;32mIn [53]\u001b[0m, in \u001b[0;36mSequentialNN.predict\u001b[0;34m(self, x)\u001b[0m\n\u001b[1;32m      6\u001b[0m \u001b[38;5;28;01mdef\u001b[39;00m \u001b[38;5;21mpredict\u001b[39m(\u001b[38;5;28mself\u001b[39m, x):\n\u001b[0;32m----> 7\u001b[0m     pred_probs \u001b[38;5;241m=\u001b[39m \u001b[38;5;28;43msuper\u001b[39;49m\u001b[43m(\u001b[49m\u001b[43m)\u001b[49m\u001b[38;5;241;43m.\u001b[39;49m\u001b[43mpredict\u001b[49m\u001b[43m(\u001b[49m\u001b[43mx\u001b[49m\u001b[43m)\u001b[49m\n\u001b[1;32m      8\u001b[0m     rounded_probs \u001b[38;5;241m=\u001b[39m tf\u001b[38;5;241m.\u001b[39mmath\u001b[38;5;241m.\u001b[39mround(pred_probs)\n\u001b[1;32m      9\u001b[0m     predictions \u001b[38;5;241m=\u001b[39m tf\u001b[38;5;241m.\u001b[39mcast(rounded_probs, tf\u001b[38;5;241m.\u001b[39mint32)\u001b[38;5;241m.\u001b[39mnumpy()\n",
      "File \u001b[0;32m~/anaconda3/lib/python3.9/site-packages/keras/src/utils/traceback_utils.py:70\u001b[0m, in \u001b[0;36mfilter_traceback.<locals>.error_handler\u001b[0;34m(*args, **kwargs)\u001b[0m\n\u001b[1;32m     67\u001b[0m     filtered_tb \u001b[38;5;241m=\u001b[39m _process_traceback_frames(e\u001b[38;5;241m.\u001b[39m__traceback__)\n\u001b[1;32m     68\u001b[0m     \u001b[38;5;66;03m# To get the full stack trace, call:\u001b[39;00m\n\u001b[1;32m     69\u001b[0m     \u001b[38;5;66;03m# `tf.debugging.disable_traceback_filtering()`\u001b[39;00m\n\u001b[0;32m---> 70\u001b[0m     \u001b[38;5;28;01mraise\u001b[39;00m e\u001b[38;5;241m.\u001b[39mwith_traceback(filtered_tb) \u001b[38;5;28;01mfrom\u001b[39;00m \u001b[38;5;28mNone\u001b[39m\n\u001b[1;32m     71\u001b[0m \u001b[38;5;28;01mfinally\u001b[39;00m:\n\u001b[1;32m     72\u001b[0m     \u001b[38;5;28;01mdel\u001b[39;00m filtered_tb\n",
      "File \u001b[0;32m~/anaconda3/lib/python3.9/site-packages/tensorflow/python/eager/execute.py:53\u001b[0m, in \u001b[0;36mquick_execute\u001b[0;34m(op_name, num_outputs, inputs, attrs, ctx, name)\u001b[0m\n\u001b[1;32m     51\u001b[0m \u001b[38;5;28;01mtry\u001b[39;00m:\n\u001b[1;32m     52\u001b[0m   ctx\u001b[38;5;241m.\u001b[39mensure_initialized()\n\u001b[0;32m---> 53\u001b[0m   tensors \u001b[38;5;241m=\u001b[39m pywrap_tfe\u001b[38;5;241m.\u001b[39mTFE_Py_Execute(ctx\u001b[38;5;241m.\u001b[39m_handle, device_name, op_name,\n\u001b[1;32m     54\u001b[0m                                       inputs, attrs, num_outputs)\n\u001b[1;32m     55\u001b[0m \u001b[38;5;28;01mexcept\u001b[39;00m core\u001b[38;5;241m.\u001b[39m_NotOkStatusException \u001b[38;5;28;01mas\u001b[39;00m e:\n\u001b[1;32m     56\u001b[0m   \u001b[38;5;28;01mif\u001b[39;00m name \u001b[38;5;129;01mis\u001b[39;00m \u001b[38;5;129;01mnot\u001b[39;00m \u001b[38;5;28;01mNone\u001b[39;00m:\n",
      "\u001b[0;31mInvalidArgumentError\u001b[0m: Graph execution error:\n\nDetected at node sequential_nn/conv1d/Conv1D defined at (most recent call last):\n  File \"/Users/nairda/anaconda3/lib/python3.9/runpy.py\", line 197, in _run_module_as_main\n\n  File \"/Users/nairda/anaconda3/lib/python3.9/runpy.py\", line 87, in _run_code\n\n  File \"/Users/nairda/anaconda3/lib/python3.9/site-packages/ipykernel_launcher.py\", line 17, in <module>\n\n  File \"/Users/nairda/anaconda3/lib/python3.9/site-packages/traitlets/config/application.py\", line 846, in launch_instance\n\n  File \"/Users/nairda/anaconda3/lib/python3.9/site-packages/ipykernel/kernelapp.py\", line 712, in start\n\n  File \"/Users/nairda/anaconda3/lib/python3.9/site-packages/tornado/platform/asyncio.py\", line 199, in start\n\n  File \"/Users/nairda/anaconda3/lib/python3.9/asyncio/base_events.py\", line 601, in run_forever\n\n  File \"/Users/nairda/anaconda3/lib/python3.9/asyncio/base_events.py\", line 1905, in _run_once\n\n  File \"/Users/nairda/anaconda3/lib/python3.9/asyncio/events.py\", line 80, in _run\n\n  File \"/Users/nairda/anaconda3/lib/python3.9/site-packages/ipykernel/kernelbase.py\", line 510, in dispatch_queue\n\n  File \"/Users/nairda/anaconda3/lib/python3.9/site-packages/ipykernel/kernelbase.py\", line 499, in process_one\n\n  File \"/Users/nairda/anaconda3/lib/python3.9/site-packages/ipykernel/kernelbase.py\", line 406, in dispatch_shell\n\n  File \"/Users/nairda/anaconda3/lib/python3.9/site-packages/ipykernel/kernelbase.py\", line 730, in execute_request\n\n  File \"/Users/nairda/anaconda3/lib/python3.9/site-packages/ipykernel/ipkernel.py\", line 383, in do_execute\n\n  File \"/Users/nairda/anaconda3/lib/python3.9/site-packages/ipykernel/zmqshell.py\", line 528, in run_cell\n\n  File \"/Users/nairda/anaconda3/lib/python3.9/site-packages/IPython/core/interactiveshell.py\", line 2881, in run_cell\n\n  File \"/Users/nairda/anaconda3/lib/python3.9/site-packages/IPython/core/interactiveshell.py\", line 2936, in _run_cell\n\n  File \"/Users/nairda/anaconda3/lib/python3.9/site-packages/IPython/core/async_helpers.py\", line 129, in _pseudo_sync_runner\n\n  File \"/Users/nairda/anaconda3/lib/python3.9/site-packages/IPython/core/interactiveshell.py\", line 3135, in run_cell_async\n\n  File \"/Users/nairda/anaconda3/lib/python3.9/site-packages/IPython/core/interactiveshell.py\", line 3338, in run_ast_nodes\n\n  File \"/Users/nairda/anaconda3/lib/python3.9/site-packages/IPython/core/interactiveshell.py\", line 3398, in run_code\n\n  File \"/var/folders/g1/nprc_87x7qz1y5bst3vfj9br0000gn/T/ipykernel_92519/692718086.py\", line 8, in <cell line: 8>\n\n  File \"/Users/nairda/anaconda3/lib/python3.9/site-packages/trustee/main.py\", line 209, in fit\n\n  File \"/var/folders/g1/nprc_87x7qz1y5bst3vfj9br0000gn/T/ipykernel_92519/1647615791.py\", line 7, in predict\n\n  File \"/Users/nairda/anaconda3/lib/python3.9/site-packages/keras/src/utils/traceback_utils.py\", line 65, in error_handler\n\n  File \"/Users/nairda/anaconda3/lib/python3.9/site-packages/keras/src/engine/training.py\", line 2655, in predict\n\n  File \"/Users/nairda/anaconda3/lib/python3.9/site-packages/keras/src/engine/training.py\", line 2440, in predict_function\n\n  File \"/Users/nairda/anaconda3/lib/python3.9/site-packages/keras/src/engine/training.py\", line 2425, in step_function\n\n  File \"/Users/nairda/anaconda3/lib/python3.9/site-packages/keras/src/engine/training.py\", line 2413, in run_step\n\n  File \"/Users/nairda/anaconda3/lib/python3.9/site-packages/keras/src/engine/training.py\", line 2381, in predict_step\n\n  File \"/Users/nairda/anaconda3/lib/python3.9/site-packages/keras/src/utils/traceback_utils.py\", line 65, in error_handler\n\n  File \"/Users/nairda/anaconda3/lib/python3.9/site-packages/keras/src/engine/training.py\", line 590, in __call__\n\n  File \"/Users/nairda/anaconda3/lib/python3.9/site-packages/keras/src/utils/traceback_utils.py\", line 65, in error_handler\n\n  File \"/Users/nairda/anaconda3/lib/python3.9/site-packages/keras/src/engine/base_layer.py\", line 1149, in __call__\n\n  File \"/Users/nairda/anaconda3/lib/python3.9/site-packages/keras/src/utils/traceback_utils.py\", line 96, in error_handler\n\n  File \"/Users/nairda/anaconda3/lib/python3.9/site-packages/keras/src/engine/sequential.py\", line 398, in call\n\n  File \"/Users/nairda/anaconda3/lib/python3.9/site-packages/keras/src/engine/functional.py\", line 515, in call\n\n  File \"/Users/nairda/anaconda3/lib/python3.9/site-packages/keras/src/engine/functional.py\", line 672, in _run_internal_graph\n\n  File \"/Users/nairda/anaconda3/lib/python3.9/site-packages/keras/src/utils/traceback_utils.py\", line 65, in error_handler\n\n  File \"/Users/nairda/anaconda3/lib/python3.9/site-packages/keras/src/engine/base_layer.py\", line 1149, in __call__\n\n  File \"/Users/nairda/anaconda3/lib/python3.9/site-packages/keras/src/utils/traceback_utils.py\", line 96, in error_handler\n\n  File \"/Users/nairda/anaconda3/lib/python3.9/site-packages/keras/src/layers/convolutional/base_conv.py\", line 290, in call\n\n  File \"/Users/nairda/anaconda3/lib/python3.9/site-packages/keras/src/layers/convolutional/base_conv.py\", line 262, in convolution_op\n\nconvolution input must be 4-dimensional: [1,32,30]\n\t [[{{node sequential_nn/conv1d/Conv1D}}]] [Op:__inference_predict_function_3695]"
     ]
    }
   ],
   "source": [
    "from trustee import ClassificationTrustee\n",
    "from sklearn.metrics import classification_report\n",
    "\n",
    "clf = model\n",
    "y_pred = clf.predict(X_test)\n",
    "\n",
    "trustee = ClassificationTrustee(expert=clf)\n",
    "trustee.fit(newX, newY, num_iter=50, num_stability_iter=10, samples_size=0.3, verbose=True)\n",
    "dt, pruned_dt, agreement, reward = trustee.explain()\n",
    "dt_y_pred = dt.predict(X_test)\n",
    "dt_y_pred = pruned_dt.predict(X_test)\n",
    "\n",
    "print(\"Model explanation global fidelity report:\")\n",
    "print(classification_report(y_pred, dt_y_pred))\n",
    "print(\"Model explanation score report:\")\n",
    "print(classification_report(y_test, dt_y_pred))"
   ]
  },
  {
   "cell_type": "code",
   "execution_count": null,
   "metadata": {},
   "outputs": [],
   "source": [
    "# from sklearn.metrics import roc_curve, roc_curve, auc\n",
    "# import matplotlib.pyplot as plt\n",
    "\n",
    "# # Compute macro-average ROC curve and ROC area\n",
    "\n",
    "# # First aggregate all false positive rates\n",
    "# # all_fpr = [ np.array([0,0,1]), np.array([0,1,0]), np.array([1,0,0]) ]\n",
    "# all_fpr = np.unique(np.concatenate([fpr[i] for i in range(n_classes)]))\n",
    "\n",
    "# # Then interpolate all ROC curves at this points\n",
    "# mean_tpr = np.zeros_like(all_fpr)\n",
    "# for i in range(n_classes):\n",
    "#     mean_tpr += interp(all_fpr, fpr[i], tpr[i])\n",
    "\n",
    "# # Finally average it and compute AUC\n",
    "# mean_tpr /= n_classes\n",
    "\n",
    "# fpr[\"macro\"] = all_fpr\n",
    "# tpr[\"macro\"] = mean_tpr\n",
    "# roc_auc[\"macro\"] = auc(fpr[\"macro\"], tpr[\"macro\"])\n",
    "\n",
    "# # Plot all ROC curves\n",
    "# plt.figure()\n",
    "# plt.plot(fpr[\"micro\"], tpr[\"micro\"],\n",
    "#      label='micro-average ROC curve (area = {0:0.2f})'\n",
    "#            ''.format(roc_auc[\"micro\"]),\n",
    "#      color='deeppink', linestyle=':', linewidth=4)\n",
    "\n",
    "# plt.plot(fpr[\"macro\"], tpr[\"macro\"],\n",
    "#      label='macro-average ROC curve (area = {0:0.2f})'\n",
    "#            ''.format(roc_auc[\"macro\"]),\n",
    "#      color='navy', linestyle=':', linewidth=4)\n",
    "\n",
    "# colors = cycle(['aqua', 'darkorange', 'cornflowerblue'])\n",
    "# for i, color in zip(range(n_classes), colors):\n",
    "#     plt.plot(fpr[i], tpr[i], color=color, lw=lw,\n",
    "#          label='ROC curve of class {0} (area = {1:0.2f})'\n",
    "#          ''.format(i, roc_auc[i]))\n",
    "\n",
    "# plt.plot([0, 1], [0, 1], 'k--', lw=lw)\n",
    "# plt.xlim([0.0, 1.0])\n",
    "# plt.ylim([0.0, 1.05])\n",
    "# plt.xlabel('False Positive Rate')\n",
    "# plt.ylabel('True Positive Rate')\n",
    "# plt.title('Some extension of Receiver operating characteristic to multi-class')\n",
    "# plt.legend(loc=\"lower right\")\n",
    "# plt.show()"
   ]
  },
  {
   "cell_type": "code",
   "execution_count": null,
   "metadata": {},
   "outputs": [],
   "source": [
    "# predictions_no_attack = model.predict(X_test)\n",
    "# predictions_attack = model.predict(X_test_final)\n",
    "\n",
    "# from sklearn.metrics import roc_curve, roc_curve, auc\n",
    "# import matplotlib.pyplot as plt\n",
    "\n",
    "# fprn, tprn, thresholdsn = roc_curve(y_test, predictions_no_attack)\n",
    "# fpra, tpra, thresholdsa = roc_curve(y_test_final, predictions_attack)\n",
    "\n",
    "# roc_auc_c = auc(fprn, tprn)\n",
    "# roc_auc_a = auc(fpra, tpra)\n",
    "\n",
    "# fontSize = 14\n",
    "# labelSize = 17\n",
    "# # Plot the ROC curve\n",
    "# plt.figure(figsize=(8, 6))\n",
    "# plt.plot(fprn, tprn, color='darkorange', lw=2, label=f'No attack (AUC={roc_auc_c:.2f})', \\\n",
    "#         marker='o')\n",
    "# plt.plot(fpra, tpra, color='red', lw=2, label=f'attack (AUC={roc_auc_a:.2f})', \\\n",
    "#         marker='*')\n",
    "# plt.plot([0,1], [0,1], color='navy', lw=2, linestyle='--')\n",
    "# plt.xlim([0.0, 1.0])\n",
    "# plt.ylim([0.0, 1.01])\n",
    "# plt.tick_params(axis='both', which='major', labelsize=labelSize)\n",
    "# plt.xlabel('False Positive Rate', fontsize=fontSize)\n",
    "# plt.ylabel('True Positive Rate', fontsize=fontSize)\n",
    "# plt.legend(loc='lower right', fontsize=fontSize-1)\n",
    "# plt.grid(True)\n",
    "# plt.show()"
   ]
  },
  {
   "cell_type": "code",
   "execution_count": null,
   "metadata": {},
   "outputs": [],
   "source": []
  }
 ],
 "metadata": {
  "kernelspec": {
   "display_name": "base",
   "language": "python",
   "name": "python3"
  },
  "language_info": {
   "codemirror_mode": {
    "name": "ipython",
    "version": 3
   },
   "file_extension": ".py",
   "mimetype": "text/x-python",
   "name": "python",
   "nbconvert_exporter": "python",
   "pygments_lexer": "ipython3",
   "version": "3.9.13"
  }
 },
 "nbformat": 4,
 "nbformat_minor": 2
}
