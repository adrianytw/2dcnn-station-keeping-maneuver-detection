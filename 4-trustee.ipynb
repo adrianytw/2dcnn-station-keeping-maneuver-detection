{
 "cells": [
  {
   "cell_type": "code",
   "execution_count": 1,
   "metadata": {},
   "outputs": [],
   "source": [
    "import tensorflow as tf\n",
    "import numpy as np"
   ]
  },
  {
   "cell_type": "code",
   "execution_count": 2,
   "metadata": {},
   "outputs": [
    {
     "name": "stderr",
     "output_type": "stream",
     "text": [
      "WARNING:absl:Compiled the loaded model, but the compiled metrics have yet to be built. `model.compile_metrics` will be empty until you train or evaluate the model.\n"
     ]
    }
   ],
   "source": [
    "# Load the model\n",
    "model = tf.keras.models.load_model('model.h5')\n",
    "\n",
    "# load train and test data\n",
    "X_train = np.load('train_data.npy')\n",
    "y_train = np.load('train_labels.npy', allow_pickle=True)\n",
    "X_test = np.load('test_data.npy')\n",
    "y_test = np.load('test_labels.npy', allow_pickle=True)\n",
    "\n",
    "# X_train = X_train.astype('float32')\n",
    "# y_train = np.array([label[0] for label in y_train]).astype('int32')\n",
    "\n",
    "# X_test = X_test.astype('float32')\n",
    "# y_test = np.array([label[0] for label in y_test]).astype('int32')\n"
   ]
  },
  {
   "cell_type": "code",
   "execution_count": 7,
   "metadata": {},
   "outputs": [
    {
     "name": "stdout",
     "output_type": "stream",
     "text": [
      "1/1 - 0s - 369ms/step - accuracy: 0.9231 - loss: 2.2019\n"
     ]
    },
    {
     "data": {
      "text/plain": [
       "[2.2018520832061768, 0.9230769276618958]"
      ]
     },
     "execution_count": 7,
     "metadata": {},
     "output_type": "execute_result"
    }
   ],
   "source": [
    "# attacking the model\n",
    "\n",
    "X_test_final = np.load('test_data.npy')\n",
    "y_test_final = np.load('test_labels.npy', allow_pickle=True)\n",
    "\n",
    "X_test_final = X_test_final.astype('float32')\n",
    "\n",
    "model.evaluate(X_test_final, y_test_final, verbose=2)"
   ]
  },
  {
   "cell_type": "code",
   "execution_count": 15,
   "metadata": {},
   "outputs": [],
   "source": [
    "# change second column of X_test_final to 0\n",
    "X_test_final[:, 1] = 100"
   ]
  },
  {
   "cell_type": "code",
   "execution_count": 16,
   "metadata": {},
   "outputs": [
    {
     "name": "stdout",
     "output_type": "stream",
     "text": [
      "1/1 - 0s - 30ms/step - accuracy: 0.5000 - loss: 420.8988\n"
     ]
    },
    {
     "data": {
      "text/plain": [
       "[420.8988037109375, 0.5]"
      ]
     },
     "execution_count": 16,
     "metadata": {},
     "output_type": "execute_result"
    }
   ],
   "source": [
    "model.evaluate(X_test_final, y_test_final, verbose=2)"
   ]
  },
  {
   "cell_type": "markdown",
   "metadata": {},
   "source": [
    "# from trustee import ClassificationTrustee\n",
    "# from sklearn.metrics import classification_report\n",
    "\n",
    "# clf = model\n",
    "# y_pred = clf.predict(X_test)\n",
    "\n",
    "# trustee = ClassificationTrustee(expert=clf)\n",
    "# trustee.fit(X_train, y_train, num_iter=50, num_stability_iter=10, samples_size=0.3, verbose=True)\n",
    "# dt, pruned_dt, agreement, reward = trustee.explain()\n",
    "# dt_y_pred = dt.predict(X_test)\n",
    "# dt_y_pred = pruned_dt.predict(X_test)\n",
    "\n",
    "# print(\"Model explanation global fidelity report:\")\n",
    "# print(classification_report(y_pred, dt_y_pred))\n",
    "# print(\"Model explanation score report:\")\n",
    "# print(classification_report(y_test, dt_y_pred))"
   ]
  },
  {
   "cell_type": "code",
   "execution_count": 5,
   "metadata": {},
   "outputs": [],
   "source": [
    "# from sklearn.metrics import roc_curve, roc_curve, auc\n",
    "# import matplotlib.pyplot as plt\n",
    "\n",
    "# # Compute macro-average ROC curve and ROC area\n",
    "\n",
    "# # First aggregate all false positive rates\n",
    "# # all_fpr = [ np.array([0,0,1]), np.array([0,1,0]), np.array([1,0,0]) ]\n",
    "# all_fpr = np.unique(np.concatenate([fpr[i] for i in range(n_classes)]))\n",
    "\n",
    "# # Then interpolate all ROC curves at this points\n",
    "# mean_tpr = np.zeros_like(all_fpr)\n",
    "# for i in range(n_classes):\n",
    "#     mean_tpr += interp(all_fpr, fpr[i], tpr[i])\n",
    "\n",
    "# # Finally average it and compute AUC\n",
    "# mean_tpr /= n_classes\n",
    "\n",
    "# fpr[\"macro\"] = all_fpr\n",
    "# tpr[\"macro\"] = mean_tpr\n",
    "# roc_auc[\"macro\"] = auc(fpr[\"macro\"], tpr[\"macro\"])\n",
    "\n",
    "# # Plot all ROC curves\n",
    "# plt.figure()\n",
    "# plt.plot(fpr[\"micro\"], tpr[\"micro\"],\n",
    "#      label='micro-average ROC curve (area = {0:0.2f})'\n",
    "#            ''.format(roc_auc[\"micro\"]),\n",
    "#      color='deeppink', linestyle=':', linewidth=4)\n",
    "\n",
    "# plt.plot(fpr[\"macro\"], tpr[\"macro\"],\n",
    "#      label='macro-average ROC curve (area = {0:0.2f})'\n",
    "#            ''.format(roc_auc[\"macro\"]),\n",
    "#      color='navy', linestyle=':', linewidth=4)\n",
    "\n",
    "# colors = cycle(['aqua', 'darkorange', 'cornflowerblue'])\n",
    "# for i, color in zip(range(n_classes), colors):\n",
    "#     plt.plot(fpr[i], tpr[i], color=color, lw=lw,\n",
    "#          label='ROC curve of class {0} (area = {1:0.2f})'\n",
    "#          ''.format(i, roc_auc[i]))\n",
    "\n",
    "# plt.plot([0, 1], [0, 1], 'k--', lw=lw)\n",
    "# plt.xlim([0.0, 1.0])\n",
    "# plt.ylim([0.0, 1.05])\n",
    "# plt.xlabel('False Positive Rate')\n",
    "# plt.ylabel('True Positive Rate')\n",
    "# plt.title('Some extension of Receiver operating characteristic to multi-class')\n",
    "# plt.legend(loc=\"lower right\")\n",
    "# plt.show()"
   ]
  },
  {
   "cell_type": "code",
   "execution_count": 6,
   "metadata": {},
   "outputs": [],
   "source": [
    "# predictions_no_attack = model.predict(X_test)\n",
    "# predictions_attack = model.predict(X_test_final)\n",
    "\n",
    "# from sklearn.metrics import roc_curve, roc_curve, auc\n",
    "# import matplotlib.pyplot as plt\n",
    "\n",
    "# fprn, tprn, thresholdsn = roc_curve(y_test, predictions_no_attack)\n",
    "# fpra, tpra, thresholdsa = roc_curve(y_test_final, predictions_attack)\n",
    "\n",
    "# roc_auc_c = auc(fprn, tprn)\n",
    "# roc_auc_a = auc(fpra, tpra)\n",
    "\n",
    "# fontSize = 14\n",
    "# labelSize = 17\n",
    "# # Plot the ROC curve\n",
    "# plt.figure(figsize=(8, 6))\n",
    "# plt.plot(fprn, tprn, color='darkorange', lw=2, label=f'No attack (AUC={roc_auc_c:.2f})', \\\n",
    "#         marker='o')\n",
    "# plt.plot(fpra, tpra, color='red', lw=2, label=f'attack (AUC={roc_auc_a:.2f})', \\\n",
    "#         marker='*')\n",
    "# plt.plot([0,1], [0,1], color='navy', lw=2, linestyle='--')\n",
    "# plt.xlim([0.0, 1.0])\n",
    "# plt.ylim([0.0, 1.01])\n",
    "# plt.tick_params(axis='both', which='major', labelsize=labelSize)\n",
    "# plt.xlabel('False Positive Rate', fontsize=fontSize)\n",
    "# plt.ylabel('True Positive Rate', fontsize=fontSize)\n",
    "# plt.legend(loc='lower right', fontsize=fontSize-1)\n",
    "# plt.grid(True)\n",
    "# plt.show()"
   ]
  },
  {
   "cell_type": "code",
   "execution_count": null,
   "metadata": {},
   "outputs": [],
   "source": []
  }
 ],
 "metadata": {
  "kernelspec": {
   "display_name": "base",
   "language": "python",
   "name": "python3"
  },
  "language_info": {
   "codemirror_mode": {
    "name": "ipython",
    "version": 3
   },
   "file_extension": ".py",
   "mimetype": "text/x-python",
   "name": "python",
   "nbconvert_exporter": "python",
   "pygments_lexer": "ipython3",
   "version": "3.11.5"
  }
 },
 "nbformat": 4,
 "nbformat_minor": 2
}
