{
 "cells": [
  {
   "cell_type": "code",
   "execution_count": 1,
   "metadata": {},
   "outputs": [],
   "source": [
    "# spacetrack\n",
    "from spacetrack import SpaceTrackClient\n",
    "import spacetrack.operators as op\n",
    "\n",
    "# others\n",
    "import numpy as np\n",
    "import pandas as pd\n",
    "import datetime as dt\n",
    "import json"
   ]
  },
  {
   "cell_type": "code",
   "execution_count": 2,
   "metadata": {},
   "outputs": [],
   "source": [
    "from dotenv import load_dotenv\n",
    "import os\n",
    "\n",
    "st_id = os.getenv(\"ST_ID\")\n",
    "st_pw = os.getenv(\"ST_PW\")"
   ]
  },
  {
   "cell_type": "code",
   "execution_count": 3,
   "metadata": {},
   "outputs": [],
   "source": [
    "st = SpaceTrackClient( st_id, st_pw )"
   ]
  },
  {
   "cell_type": "code",
   "execution_count": 4,
   "metadata": {},
   "outputs": [],
   "source": [
    "drange = op.inclusive_range(dt.datetime(2024, 1, 1), dt.datetime(2024, 3, 30))"
   ]
  },
  {
   "cell_type": "code",
   "execution_count": 5,
   "metadata": {},
   "outputs": [],
   "source": [
    "norad_list = json.load(open(\"norad-list.json\"))[\"norad_ids\"]"
   ]
  },
  {
   "cell_type": "code",
   "execution_count": 6,
   "metadata": {},
   "outputs": [],
   "source": [
    "fileName  = 'raw-sat-data.csv'\n",
    "\n",
    "# get data\n",
    "data = st.tle(norad_cat_id=norad_list, orderby='epoch desc', format='json', epoch=drange)"
   ]
  },
  {
   "cell_type": "code",
   "execution_count": 7,
   "metadata": {},
   "outputs": [],
   "source": [
    "# convert to dataframe\n",
    "data_json = json.loads(data)\n",
    "data_df = pd.DataFrame(data_json)"
   ]
  },
  {
   "cell_type": "code",
   "execution_count": 8,
   "metadata": {},
   "outputs": [],
   "source": [
    "# save to csv\n",
    "data_df.to_csv(fileName, mode='a', index=False)"
   ]
  },
  {
   "cell_type": "code",
   "execution_count": 9,
   "metadata": {},
   "outputs": [],
   "source": [
    "# pick only TS_KE_ELEMENTS\n",
    "from utils import TS_KE_ELEMENTS\n",
    "\n",
    "filtered_df = data_df[TS_KE_ELEMENTS]"
   ]
  },
  {
   "cell_type": "code",
   "execution_count": 10,
   "metadata": {},
   "outputs": [],
   "source": [
    "filtered_df.to_hdf('sat-data.h5',mode='w', key='data')"
   ]
  },
  {
   "cell_type": "code",
   "execution_count": 11,
   "metadata": {},
   "outputs": [
    {
     "data": {
      "text/html": [
       "<div>\n",
       "<style scoped>\n",
       "    .dataframe tbody tr th:only-of-type {\n",
       "        vertical-align: middle;\n",
       "    }\n",
       "\n",
       "    .dataframe tbody tr th {\n",
       "        vertical-align: top;\n",
       "    }\n",
       "\n",
       "    .dataframe thead th {\n",
       "        text-align: right;\n",
       "    }\n",
       "</style>\n",
       "<table border=\"1\" class=\"dataframe\">\n",
       "  <thead>\n",
       "    <tr style=\"text-align: right;\">\n",
       "      <th></th>\n",
       "      <th>NORAD_CAT_ID</th>\n",
       "      <th>EPOCH</th>\n",
       "      <th>SEMIMAJOR_AXIS</th>\n",
       "      <th>ECCENTRICITY</th>\n",
       "      <th>INCLINATION</th>\n",
       "      <th>RA_OF_ASC_NODE</th>\n",
       "      <th>ARG_OF_PERICENTER</th>\n",
       "      <th>MEAN_ANOMALY</th>\n",
       "    </tr>\n",
       "  </thead>\n",
       "  <tbody>\n",
       "    <tr>\n",
       "      <th>0</th>\n",
       "      <td>41469</td>\n",
       "      <td>2024-03-29 23:14:42</td>\n",
       "      <td>42162.865</td>\n",
       "      <td>0.0005158</td>\n",
       "      <td>3.2631</td>\n",
       "      <td>122.0675</td>\n",
       "      <td>309.1062</td>\n",
       "      <td>234.7614</td>\n",
       "    </tr>\n",
       "    <tr>\n",
       "      <th>1</th>\n",
       "      <td>22787</td>\n",
       "      <td>2024-03-29 22:56:42</td>\n",
       "      <td>42164.272</td>\n",
       "      <td>0.0005063</td>\n",
       "      <td>11.6348</td>\n",
       "      <td>7.7743</td>\n",
       "      <td>18.0968</td>\n",
       "      <td>174.8006</td>\n",
       "    </tr>\n",
       "    <tr>\n",
       "      <th>2</th>\n",
       "      <td>22787</td>\n",
       "      <td>2024-03-29 22:56:42</td>\n",
       "      <td>42164.272</td>\n",
       "      <td>0.0005063</td>\n",
       "      <td>11.6348</td>\n",
       "      <td>7.7743</td>\n",
       "      <td>18.0968</td>\n",
       "      <td>174.8006</td>\n",
       "    </tr>\n",
       "    <tr>\n",
       "      <th>3</th>\n",
       "      <td>41469</td>\n",
       "      <td>2024-03-29 21:49:27</td>\n",
       "      <td>42162.856</td>\n",
       "      <td>0.0005158</td>\n",
       "      <td>3.263</td>\n",
       "      <td>122.0702</td>\n",
       "      <td>309.1057</td>\n",
       "      <td>213.3868</td>\n",
       "    </tr>\n",
       "    <tr>\n",
       "      <th>4</th>\n",
       "      <td>38704</td>\n",
       "      <td>2024-03-29 21:39:33</td>\n",
       "      <td>41632.950</td>\n",
       "      <td>0.0210129</td>\n",
       "      <td>2.2449</td>\n",
       "      <td>62.3939</td>\n",
       "      <td>214.7218</td>\n",
       "      <td>144.2019</td>\n",
       "    </tr>\n",
       "    <tr>\n",
       "      <th>...</th>\n",
       "      <td>...</td>\n",
       "      <td>...</td>\n",
       "      <td>...</td>\n",
       "      <td>...</td>\n",
       "      <td>...</td>\n",
       "      <td>...</td>\n",
       "      <td>...</td>\n",
       "      <td>...</td>\n",
       "    </tr>\n",
       "    <tr>\n",
       "      <th>5574</th>\n",
       "      <td>44479</td>\n",
       "      <td>2024-01-01 04:10:42</td>\n",
       "      <td>42163.982</td>\n",
       "      <td>0.0001534</td>\n",
       "      <td>0.0196</td>\n",
       "      <td>29.8835</td>\n",
       "      <td>262.5128</td>\n",
       "      <td>247.6115</td>\n",
       "    </tr>\n",
       "    <tr>\n",
       "      <th>5575</th>\n",
       "      <td>22787</td>\n",
       "      <td>2024-01-01 04:02:42</td>\n",
       "      <td>42164.504</td>\n",
       "      <td>0.0003773</td>\n",
       "      <td>11.6084</td>\n",
       "      <td>8.2266</td>\n",
       "      <td>273.8876</td>\n",
       "      <td>267.586</td>\n",
       "    </tr>\n",
       "    <tr>\n",
       "      <th>5576</th>\n",
       "      <td>22988</td>\n",
       "      <td>2024-01-01 02:59:17</td>\n",
       "      <td>42163.851</td>\n",
       "      <td>0.000334</td>\n",
       "      <td>16.2451</td>\n",
       "      <td>37.2131</td>\n",
       "      <td>254.7122</td>\n",
       "      <td>123.1842</td>\n",
       "    </tr>\n",
       "    <tr>\n",
       "      <th>5577</th>\n",
       "      <td>38699</td>\n",
       "      <td>2024-01-01 01:20:33</td>\n",
       "      <td>42002.568</td>\n",
       "      <td>0.0098973</td>\n",
       "      <td>1.4331</td>\n",
       "      <td>334.06</td>\n",
       "      <td>343.2008</td>\n",
       "      <td>183.0781</td>\n",
       "    </tr>\n",
       "    <tr>\n",
       "      <th>5578</th>\n",
       "      <td>38699</td>\n",
       "      <td>2024-01-01 01:20:33</td>\n",
       "      <td>42002.568</td>\n",
       "      <td>0.0098973</td>\n",
       "      <td>1.4331</td>\n",
       "      <td>334.06</td>\n",
       "      <td>343.2008</td>\n",
       "      <td>183.0781</td>\n",
       "    </tr>\n",
       "  </tbody>\n",
       "</table>\n",
       "<p>5579 rows × 8 columns</p>\n",
       "</div>"
      ],
      "text/plain": [
       "     NORAD_CAT_ID                EPOCH SEMIMAJOR_AXIS ECCENTRICITY  \\\n",
       "0           41469  2024-03-29 23:14:42      42162.865    0.0005158   \n",
       "1           22787  2024-03-29 22:56:42      42164.272    0.0005063   \n",
       "2           22787  2024-03-29 22:56:42      42164.272    0.0005063   \n",
       "3           41469  2024-03-29 21:49:27      42162.856    0.0005158   \n",
       "4           38704  2024-03-29 21:39:33      41632.950    0.0210129   \n",
       "...           ...                  ...            ...          ...   \n",
       "5574        44479  2024-01-01 04:10:42      42163.982    0.0001534   \n",
       "5575        22787  2024-01-01 04:02:42      42164.504    0.0003773   \n",
       "5576        22988  2024-01-01 02:59:17      42163.851     0.000334   \n",
       "5577        38699  2024-01-01 01:20:33      42002.568    0.0098973   \n",
       "5578        38699  2024-01-01 01:20:33      42002.568    0.0098973   \n",
       "\n",
       "     INCLINATION RA_OF_ASC_NODE ARG_OF_PERICENTER MEAN_ANOMALY  \n",
       "0         3.2631       122.0675          309.1062     234.7614  \n",
       "1        11.6348         7.7743           18.0968     174.8006  \n",
       "2        11.6348         7.7743           18.0968     174.8006  \n",
       "3          3.263       122.0702          309.1057     213.3868  \n",
       "4         2.2449        62.3939          214.7218     144.2019  \n",
       "...          ...            ...               ...          ...  \n",
       "5574      0.0196        29.8835          262.5128     247.6115  \n",
       "5575     11.6084         8.2266          273.8876      267.586  \n",
       "5576     16.2451        37.2131          254.7122     123.1842  \n",
       "5577      1.4331         334.06          343.2008     183.0781  \n",
       "5578      1.4331         334.06          343.2008     183.0781  \n",
       "\n",
       "[5579 rows x 8 columns]"
      ]
     },
     "execution_count": 11,
     "metadata": {},
     "output_type": "execute_result"
    }
   ],
   "source": [
    "filtered_df"
   ]
  }
 ],
 "metadata": {
  "kernelspec": {
   "display_name": "venv",
   "language": "python",
   "name": "python3"
  },
  "language_info": {
   "codemirror_mode": {
    "name": "ipython",
    "version": 3
   },
   "file_extension": ".py",
   "mimetype": "text/x-python",
   "name": "python",
   "nbconvert_exporter": "python",
   "pygments_lexer": "ipython3",
   "version": "3.9.13"
  }
 },
 "nbformat": 4,
 "nbformat_minor": 2
}
