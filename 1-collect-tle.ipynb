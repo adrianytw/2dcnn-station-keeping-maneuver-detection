{
 "cells": [
  {
   "cell_type": "code",
   "execution_count": 23,
   "metadata": {},
   "outputs": [],
   "source": [
    "# spacetrack\n",
    "from spacetrack import SpaceTrackClient\n",
    "import spacetrack.operators as op\n",
    "\n",
    "# others\n",
    "import numpy as np\n",
    "import pandas as pd\n",
    "import datetime as dt\n",
    "import json"
   ]
  },
  {
   "cell_type": "code",
   "execution_count": 24,
   "metadata": {},
   "outputs": [],
   "source": [
    "from dotenv import load_dotenv\n",
    "import os\n",
    "\n",
    "st_id = os.getenv(\"ST_ID\")\n",
    "st_pw = os.getenv(\"ST_PW\")"
   ]
  },
  {
   "cell_type": "code",
   "execution_count": 25,
   "metadata": {},
   "outputs": [],
   "source": [
    "st = SpaceTrackClient( st_id, st_pw )"
   ]
  },
  {
   "cell_type": "code",
   "execution_count": 26,
   "metadata": {},
   "outputs": [],
   "source": [
    "drange = op.inclusive_range(dt.datetime(2024, 3, 1), dt.datetime(2024, 3, 30))"
   ]
  },
  {
   "cell_type": "code",
   "execution_count": 27,
   "metadata": {},
   "outputs": [],
   "source": [
    "norad_list = json.load(open(\"norad-list.json\"))[\"norad_ids\"]"
   ]
  },
  {
   "cell_type": "code",
   "execution_count": 28,
   "metadata": {},
   "outputs": [],
   "source": [
    "fileName  = 'raw-sat-data.csv'\n",
    "\n",
    "# get data\n",
    "data = st.tle(norad_cat_id=norad_list, orderby='epoch desc', format='json', epoch=drange)"
   ]
  },
  {
   "cell_type": "code",
   "execution_count": 29,
   "metadata": {},
   "outputs": [],
   "source": [
    "# convert to dataframe\n",
    "data_json = json.loads(data)\n",
    "data_df = pd.DataFrame(data_json)"
   ]
  },
  {
   "cell_type": "code",
   "execution_count": 30,
   "metadata": {},
   "outputs": [],
   "source": [
    "# save to csv\n",
    "data_df.to_csv(fileName, mode='a', index=False)"
   ]
  },
  {
   "cell_type": "code",
   "execution_count": 31,
   "metadata": {},
   "outputs": [],
   "source": [
    "# pick only TS_KE_ELEMENTS\n",
    "from utils import TS_KE_ELEMENTS\n",
    "\n",
    "filtered_df = data_df[TS_KE_ELEMENTS]"
   ]
  },
  {
   "cell_type": "code",
   "execution_count": 32,
   "metadata": {},
   "outputs": [],
   "source": [
    "filtered_df.to_hdf('sat-data.h5',mode='w', key='data')"
   ]
  },
  {
   "cell_type": "code",
   "execution_count": 33,
   "metadata": {},
   "outputs": [
    {
     "data": {
      "text/html": [
       "<div>\n",
       "<style scoped>\n",
       "    .dataframe tbody tr th:only-of-type {\n",
       "        vertical-align: middle;\n",
       "    }\n",
       "\n",
       "    .dataframe tbody tr th {\n",
       "        vertical-align: top;\n",
       "    }\n",
       "\n",
       "    .dataframe thead th {\n",
       "        text-align: right;\n",
       "    }\n",
       "</style>\n",
       "<table border=\"1\" class=\"dataframe\">\n",
       "  <thead>\n",
       "    <tr style=\"text-align: right;\">\n",
       "      <th></th>\n",
       "      <th>NORAD_CAT_ID</th>\n",
       "      <th>EPOCH</th>\n",
       "      <th>SEMIMAJOR_AXIS</th>\n",
       "      <th>ECCENTRICITY</th>\n",
       "      <th>INCLINATION</th>\n",
       "      <th>RA_OF_ASC_NODE</th>\n",
       "      <th>ARG_OF_PERICENTER</th>\n",
       "      <th>MEAN_ANOMALY</th>\n",
       "    </tr>\n",
       "  </thead>\n",
       "  <tbody>\n",
       "    <tr>\n",
       "      <th>0</th>\n",
       "      <td>41469</td>\n",
       "      <td>2024-03-29 23:14:42</td>\n",
       "      <td>42162.865</td>\n",
       "      <td>0.0005158</td>\n",
       "      <td>3.2631</td>\n",
       "      <td>122.0675</td>\n",
       "      <td>309.1062</td>\n",
       "      <td>234.7614</td>\n",
       "    </tr>\n",
       "    <tr>\n",
       "      <th>1</th>\n",
       "      <td>22787</td>\n",
       "      <td>2024-03-29 22:56:42</td>\n",
       "      <td>42164.272</td>\n",
       "      <td>0.0005063</td>\n",
       "      <td>11.6348</td>\n",
       "      <td>7.7743</td>\n",
       "      <td>18.0968</td>\n",
       "      <td>174.8006</td>\n",
       "    </tr>\n",
       "    <tr>\n",
       "      <th>2</th>\n",
       "      <td>22787</td>\n",
       "      <td>2024-03-29 22:56:42</td>\n",
       "      <td>42164.272</td>\n",
       "      <td>0.0005063</td>\n",
       "      <td>11.6348</td>\n",
       "      <td>7.7743</td>\n",
       "      <td>18.0968</td>\n",
       "      <td>174.8006</td>\n",
       "    </tr>\n",
       "    <tr>\n",
       "      <th>3</th>\n",
       "      <td>41469</td>\n",
       "      <td>2024-03-29 21:49:27</td>\n",
       "      <td>42162.856</td>\n",
       "      <td>0.0005158</td>\n",
       "      <td>3.263</td>\n",
       "      <td>122.0702</td>\n",
       "      <td>309.1057</td>\n",
       "      <td>213.3868</td>\n",
       "    </tr>\n",
       "    <tr>\n",
       "      <th>4</th>\n",
       "      <td>38704</td>\n",
       "      <td>2024-03-29 21:39:33</td>\n",
       "      <td>41632.950</td>\n",
       "      <td>0.0210129</td>\n",
       "      <td>2.2449</td>\n",
       "      <td>62.3939</td>\n",
       "      <td>214.7218</td>\n",
       "      <td>144.2019</td>\n",
       "    </tr>\n",
       "    <tr>\n",
       "      <th>...</th>\n",
       "      <td>...</td>\n",
       "      <td>...</td>\n",
       "      <td>...</td>\n",
       "      <td>...</td>\n",
       "      <td>...</td>\n",
       "      <td>...</td>\n",
       "      <td>...</td>\n",
       "      <td>...</td>\n",
       "    </tr>\n",
       "    <tr>\n",
       "      <th>1551</th>\n",
       "      <td>33436</td>\n",
       "      <td>2024-03-01 01:37:31</td>\n",
       "      <td>42165.891</td>\n",
       "      <td>0.0001378</td>\n",
       "      <td>0.0211</td>\n",
       "      <td>124.6008</td>\n",
       "      <td>281.0132</td>\n",
       "      <td>157.3407</td>\n",
       "    </tr>\n",
       "    <tr>\n",
       "      <th>1552</th>\n",
       "      <td>33373</td>\n",
       "      <td>2024-03-01 01:08:34</td>\n",
       "      <td>42164.289</td>\n",
       "      <td>0.0001905</td>\n",
       "      <td>0.007</td>\n",
       "      <td>141.2321</td>\n",
       "      <td>196.4168</td>\n",
       "      <td>116.7912</td>\n",
       "    </tr>\n",
       "    <tr>\n",
       "      <th>1553</th>\n",
       "      <td>44457</td>\n",
       "      <td>2024-03-01 00:49:42</td>\n",
       "      <td>42164.775</td>\n",
       "      <td>0.0000261</td>\n",
       "      <td>0.0133</td>\n",
       "      <td>127.4057</td>\n",
       "      <td>303.8112</td>\n",
       "      <td>112.5159</td>\n",
       "    </tr>\n",
       "    <tr>\n",
       "      <th>1554</th>\n",
       "      <td>22787</td>\n",
       "      <td>2024-03-01 00:41:42</td>\n",
       "      <td>42163.703</td>\n",
       "      <td>0.0003622</td>\n",
       "      <td>11.6257</td>\n",
       "      <td>7.9197</td>\n",
       "      <td>345.0296</td>\n",
       "      <td>205.4834</td>\n",
       "    </tr>\n",
       "    <tr>\n",
       "      <th>1555</th>\n",
       "      <td>22787</td>\n",
       "      <td>2024-03-01 00:41:42</td>\n",
       "      <td>42163.703</td>\n",
       "      <td>0.0003622</td>\n",
       "      <td>11.6257</td>\n",
       "      <td>7.9197</td>\n",
       "      <td>345.0296</td>\n",
       "      <td>205.4834</td>\n",
       "    </tr>\n",
       "  </tbody>\n",
       "</table>\n",
       "<p>1556 rows × 8 columns</p>\n",
       "</div>"
      ],
      "text/plain": [
       "     NORAD_CAT_ID                EPOCH SEMIMAJOR_AXIS ECCENTRICITY  \\\n",
       "0           41469  2024-03-29 23:14:42      42162.865    0.0005158   \n",
       "1           22787  2024-03-29 22:56:42      42164.272    0.0005063   \n",
       "2           22787  2024-03-29 22:56:42      42164.272    0.0005063   \n",
       "3           41469  2024-03-29 21:49:27      42162.856    0.0005158   \n",
       "4           38704  2024-03-29 21:39:33      41632.950    0.0210129   \n",
       "...           ...                  ...            ...          ...   \n",
       "1551        33436  2024-03-01 01:37:31      42165.891    0.0001378   \n",
       "1552        33373  2024-03-01 01:08:34      42164.289    0.0001905   \n",
       "1553        44457  2024-03-01 00:49:42      42164.775    0.0000261   \n",
       "1554        22787  2024-03-01 00:41:42      42163.703    0.0003622   \n",
       "1555        22787  2024-03-01 00:41:42      42163.703    0.0003622   \n",
       "\n",
       "     INCLINATION RA_OF_ASC_NODE ARG_OF_PERICENTER MEAN_ANOMALY  \n",
       "0         3.2631       122.0675          309.1062     234.7614  \n",
       "1        11.6348         7.7743           18.0968     174.8006  \n",
       "2        11.6348         7.7743           18.0968     174.8006  \n",
       "3          3.263       122.0702          309.1057     213.3868  \n",
       "4         2.2449        62.3939          214.7218     144.2019  \n",
       "...          ...            ...               ...          ...  \n",
       "1551      0.0211       124.6008          281.0132     157.3407  \n",
       "1552       0.007       141.2321          196.4168     116.7912  \n",
       "1553      0.0133       127.4057          303.8112     112.5159  \n",
       "1554     11.6257         7.9197          345.0296     205.4834  \n",
       "1555     11.6257         7.9197          345.0296     205.4834  \n",
       "\n",
       "[1556 rows x 8 columns]"
      ]
     },
     "execution_count": 33,
     "metadata": {},
     "output_type": "execute_result"
    }
   ],
   "source": [
    "filtered_df"
   ]
  }
 ],
 "metadata": {
  "kernelspec": {
   "display_name": "venv",
   "language": "python",
   "name": "python3"
  },
  "language_info": {
   "codemirror_mode": {
    "name": "ipython",
    "version": 3
   },
   "file_extension": ".py",
   "mimetype": "text/x-python",
   "name": "python",
   "nbconvert_exporter": "python",
   "pygments_lexer": "ipython3",
   "version": "3.9.13"
  }
 },
 "nbformat": 4,
 "nbformat_minor": 2
}
